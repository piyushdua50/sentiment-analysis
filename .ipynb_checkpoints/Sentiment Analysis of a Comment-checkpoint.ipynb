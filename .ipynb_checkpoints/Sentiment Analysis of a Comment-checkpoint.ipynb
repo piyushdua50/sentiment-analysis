{
 "cells": [
  {
   "cell_type": "code",
   "execution_count": 1,
   "metadata": {},
   "outputs": [],
   "source": [
    "# Sentiment Analysis - It is used to analyse the emotions of a Customer through their comments, reviews and Statements."
   ]
  },
  {
   "cell_type": "code",
   "execution_count": 2,
   "metadata": {},
   "outputs": [],
   "source": [
    "# Applications of Sentiment Analysis are -\n",
    "\n",
    "# 1. Review Classification - To check whether a review is Positive, Negative or Neutral.\n",
    "# 2. Product Review Mining - To check  which features are liked by the Customer and which are not.\n",
    "# 3. Election Times - To check whether which party is being liked by the User and which are not."
   ]
  },
  {
   "cell_type": "code",
   "execution_count": 3,
   "metadata": {},
   "outputs": [],
   "source": [
    "from textblob import TextBlob"
   ]
  },
  {
   "cell_type": "code",
   "execution_count": 4,
   "metadata": {},
   "outputs": [
    {
     "data": {
      "text/plain": [
       "['This product is awesome',\n",
       " 'This product is highly relatable',\n",
       " 'It is bad',\n",
       " \"Don't buy it\",\n",
       " 'Bad product']"
      ]
     },
     "execution_count": 4,
     "metadata": {},
     "output_type": "execute_result"
    }
   ],
   "source": [
    "tweets = [\n",
    "    'This product is awesome',\n",
    "    'This product is highly relatable',\n",
    "    'It is bad',\n",
    "    \"Don't buy it\",\n",
    "    'Bad product'\n",
    "]\n",
    "tweets"
   ]
  },
  {
   "cell_type": "code",
   "execution_count": 12,
   "metadata": {},
   "outputs": [
    {
     "name": "stdout",
     "output_type": "stream",
     "text": [
      "Tweet is:  This product is awesome\n",
      "Sentiment is:  Positive\n",
      "Tweet is:  This product is highly relatable\n",
      "Sentiment is:  Positive\n",
      "Tweet is:  It is bad\n",
      "Sentiment is:  Negative\n",
      "Tweet is:  Don't buy it\n",
      "Sentiment is:  Nuetral\n",
      "Tweet is:  Bad product\n",
      "Sentiment is:  Negative\n"
     ]
    }
   ],
   "source": [
    "for tweet in tweets:\n",
    "    sentiment = \"\"\n",
    "    print(\"Tweet is: \", tweet)\n",
    "    analysis = TextBlob(tweet)\n",
    "#     print(analysis.sentiment)\n",
    "#     print(\"Polarity: \", analysis.sentiment[0])\n",
    "#     print(\"Subjectivity: \", analysis.sentiment[1])\n",
    "    if analysis.sentiment[0] > 0:\n",
    "        sentiment = \"Positive\"\n",
    "    elif analysis.sentiment[0] < 0:\n",
    "        sentiment = \"Negative\"\n",
    "    else:\n",
    "        sentiment = \"Nuetral\"\n",
    "    \n",
    "    print(\"Sentiment is: \", sentiment)"
   ]
  },
  {
   "cell_type": "code",
   "execution_count": 14,
   "metadata": {},
   "outputs": [],
   "source": [
    "# Polarity - Polarity, also known as orientation is the emotion expressed in the sentence. It can be positive, negative \n",
    "#            or neutral.\n",
    "\n",
    "#   Note  -   If the Polarity is 0, then the sentiment is 'Nuetral'\n",
    "#             If the Polarity is less than 0, then the sentiment is 'Negative'\n",
    "#             If the Polarity is more than 0, then the sentiment is 'Positive'"
   ]
  },
  {
   "cell_type": "code",
   "execution_count": 13,
   "metadata": {},
   "outputs": [],
   "source": [
    "#  Subjectivity - Subjectivity is when text is an explanatory article which must be analysed in context. Subjective sentence \n",
    "#                 expresses some personal feelings, views, or beliefs. \n",
    "#  A subjective sentence may not express any sentiment.\n",
    "\n",
    "# Example - \n",
    "# Subjective sentence is “I like iPhone.” Subjective expressions come in many forms, e.g., opinions, allegations, desires, \n",
    "# beliefs, suspicions, and speculations."
   ]
  },
  {
   "cell_type": "code",
   "execution_count": null,
   "metadata": {},
   "outputs": [],
   "source": []
  }
 ],
 "metadata": {
  "kernelspec": {
   "display_name": "Python 3",
   "language": "python",
   "name": "python3"
  },
  "language_info": {
   "codemirror_mode": {
    "name": "ipython",
    "version": 3
   },
   "file_extension": ".py",
   "mimetype": "text/x-python",
   "name": "python",
   "nbconvert_exporter": "python",
   "pygments_lexer": "ipython3",
   "version": "3.7.4"
  }
 },
 "nbformat": 4,
 "nbformat_minor": 2
}
